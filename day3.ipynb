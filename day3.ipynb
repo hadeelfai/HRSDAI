{
 "cells": [
  {
   "cell_type": "code",
   "execution_count": 1,
   "metadata": {},
   "outputs": [
    {
     "name": "stdout",
     "output_type": "stream",
     "text": [
      "Requirement already satisfied: opencv-python in c:\\users\\lenovo\\appdata\\local\\programs\\python\\python312\\lib\\site-packages (4.9.0.80)Note: you may need to restart the kernel to use updated packages.\n",
      "\n",
      "Requirement already satisfied: numpy>=1.21.2 in c:\\users\\lenovo\\appdata\\local\\programs\\python\\python312\\lib\\site-packages (from opencv-python) (1.26.3)\n"
     ]
    }
   ],
   "source": [
    "pip install opencv-python"
   ]
  },
  {
   "cell_type": "code",
   "execution_count": 2,
   "metadata": {},
   "outputs": [
    {
     "name": "stdout",
     "output_type": "stream",
     "text": [
      "Requirement already satisfied: matplotlib in c:\\users\\lenovo\\appdata\\local\\programs\\python\\python312\\lib\\site-packages (3.8.2)\n",
      "Requirement already satisfied: contourpy>=1.0.1 in c:\\users\\lenovo\\appdata\\local\\programs\\python\\python312\\lib\\site-packages (from matplotlib) (1.2.0)\n",
      "Requirement already satisfied: cycler>=0.10 in c:\\users\\lenovo\\appdata\\local\\programs\\python\\python312\\lib\\site-packages (from matplotlib) (0.12.1)\n",
      "Requirement already satisfied: fonttools>=4.22.0 in c:\\users\\lenovo\\appdata\\local\\programs\\python\\python312\\lib\\site-packages (from matplotlib) (4.47.0)\n",
      "Requirement already satisfied: kiwisolver>=1.3.1 in c:\\users\\lenovo\\appdata\\local\\programs\\python\\python312\\lib\\site-packages (from matplotlib) (1.4.5)\n",
      "Requirement already satisfied: numpy<2,>=1.21 in c:\\users\\lenovo\\appdata\\local\\programs\\python\\python312\\lib\\site-packages (from matplotlib) (1.26.3)\n",
      "Requirement already satisfied: packaging>=20.0 in c:\\users\\lenovo\\appdata\\local\\programs\\python\\python312\\lib\\site-packages (from matplotlib) (23.2)\n",
      "Requirement already satisfied: pillow>=8 in c:\\users\\lenovo\\appdata\\local\\programs\\python\\python312\\lib\\site-packages (from matplotlib) (10.2.0)\n",
      "Requirement already satisfied: pyparsing>=2.3.1 in c:\\users\\lenovo\\appdata\\local\\programs\\python\\python312\\lib\\site-packages (from matplotlib) (3.1.1)\n",
      "Requirement already satisfied: python-dateutil>=2.7 in c:\\users\\lenovo\\appdata\\local\\programs\\python\\python312\\lib\\site-packages (from matplotlib) (2.8.2)\n",
      "Requirement already satisfied: six>=1.5 in c:\\users\\lenovo\\appdata\\local\\programs\\python\\python312\\lib\\site-packages (from python-dateutil>=2.7->matplotlib) (1.16.0)\n",
      "Note: you may need to restart the kernel to use updated packages.\n"
     ]
    }
   ],
   "source": [
    "pip install matplotlib"
   ]
  },
  {
   "cell_type": "code",
   "execution_count": 3,
   "metadata": {},
   "outputs": [
    {
     "name": "stdout",
     "output_type": "stream",
     "text": [
      "Requirement already satisfied: numpy in c:\\users\\lenovo\\appdata\\local\\programs\\python\\python312\\lib\\site-packages (1.26.3)\n",
      "Note: you may need to restart the kernel to use updated packages.\n"
     ]
    }
   ],
   "source": [
    "pip install numpy"
   ]
  },
  {
   "cell_type": "code",
   "execution_count": 4,
   "metadata": {},
   "outputs": [
    {
     "name": "stdout",
     "output_type": "stream",
     "text": [
      "Collecting pyTelegramBotAPI\n",
      "  Using cached pyTelegramBotAPI-4.14.1.tar.gz (244 kB)\n",
      "  Installing build dependencies: started\n",
      "  Installing build dependencies: finished with status 'done'\n",
      "  Getting requirements to build wheel: started\n",
      "  Getting requirements to build wheel: finished with status 'done'\n",
      "  Preparing metadata (pyproject.toml): started\n",
      "  Preparing metadata (pyproject.toml): finished with status 'done'\n",
      "Collecting requests (from pyTelegramBotAPI)\n",
      "  Using cached requests-2.31.0-py3-none-any.whl.metadata (4.6 kB)\n",
      "Collecting charset-normalizer<4,>=2 (from requests->pyTelegramBotAPI)\n",
      "  Downloading charset_normalizer-3.3.2-cp312-cp312-win_amd64.whl.metadata (34 kB)\n",
      "Collecting idna<4,>=2.5 (from requests->pyTelegramBotAPI)\n",
      "  Using cached idna-3.6-py3-none-any.whl.metadata (9.9 kB)\n",
      "Collecting urllib3<3,>=1.21.1 (from requests->pyTelegramBotAPI)\n",
      "  Using cached urllib3-2.1.0-py3-none-any.whl.metadata (6.4 kB)\n",
      "Collecting certifi>=2017.4.17 (from requests->pyTelegramBotAPI)\n",
      "  Using cached certifi-2023.11.17-py3-none-any.whl.metadata (2.2 kB)\n",
      "Using cached requests-2.31.0-py3-none-any.whl (62 kB)\n",
      "Using cached certifi-2023.11.17-py3-none-any.whl (162 kB)\n",
      "Downloading charset_normalizer-3.3.2-cp312-cp312-win_amd64.whl (100 kB)\n",
      "   ---------------------------------------- 0.0/100.4 kB ? eta -:--:--\n",
      "   ---- ----------------------------------- 10.2/100.4 kB ? eta -:--:--\n",
      "   --------------- ----------------------- 41.0/100.4 kB 653.6 kB/s eta 0:00:01\n",
      "   --------------- ----------------------- 41.0/100.4 kB 653.6 kB/s eta 0:00:01\n",
      "   --------------- ----------------------- 41.0/100.4 kB 653.6 kB/s eta 0:00:01\n",
      "   --------------- ----------------------- 41.0/100.4 kB 653.6 kB/s eta 0:00:01\n",
      "   --------------------------- ----------- 71.7/100.4 kB 231.0 kB/s eta 0:00:01\n",
      "   ----------------------------------- --- 92.2/100.4 kB 308.0 kB/s eta 0:00:01\n",
      "   -------------------------------------- 100.4/100.4 kB 274.0 kB/s eta 0:00:00\n",
      "Using cached idna-3.6-py3-none-any.whl (61 kB)\n",
      "Using cached urllib3-2.1.0-py3-none-any.whl (104 kB)\n",
      "Building wheels for collected packages: pyTelegramBotAPI\n",
      "  Building wheel for pyTelegramBotAPI (pyproject.toml): started\n",
      "  Building wheel for pyTelegramBotAPI (pyproject.toml): finished with status 'done'\n",
      "  Created wheel for pyTelegramBotAPI: filename=pyTelegramBotAPI-4.14.1-py3-none-any.whl size=215762 sha256=7cd7d895688fd983c9b29137432882ff3c793efda341f2094dd548955b9b7c09\n",
      "  Stored in directory: c:\\users\\lenovo\\appdata\\local\\pip\\cache\\wheels\\cd\\a9\\0e\\a92b34b44cf0de62f60433102be4324cdb6e6b0db114d170f4\n",
      "Successfully built pyTelegramBotAPI\n",
      "Installing collected packages: urllib3, idna, charset-normalizer, certifi, requests, pyTelegramBotAPI\n",
      "Successfully installed certifi-2023.11.17 charset-normalizer-3.3.2 idna-3.6 pyTelegramBotAPI-4.14.1 requests-2.31.0 urllib3-2.1.0\n",
      "Note: you may need to restart the kernel to use updated packages.\n"
     ]
    }
   ],
   "source": [
    "pip install pyTelegramBotAPI"
   ]
  },
  {
   "cell_type": "code",
   "execution_count": 13,
   "metadata": {},
   "outputs": [],
   "source": [
    "import cv2\n",
    "import numpy as np \n",
    "import telebot\n",
    "from telebot import types \n",
    "\n",
    "\n",
    "bot = telebot.TeleBot(\"6968701267:AAGqyb-ZDkJ1efwGjc6c-i4X4ldK0pWzS3c\")\n",
    "\n",
    "@bot.message_handler(content_types=['photo'])\n",
    "def handle_photo(message):\n",
    "\n",
    "    file_info = bot.get_file(message.photo[-1].file_id)\n",
    "    downloaded_file= bot.download_file(file_info.file_path)\n",
    "\n",
    "    with open(\"photo.jpg\", 'wb') as new_file:\n",
    "        new_file.write(downloaded_file)\n",
    "\n",
    "\n",
    "    img = cv2.imread(\"photo.jpg\")\n",
    "\n",
    "\n",
    "    gray = cv2.cvtColor(img, cv2.COLOR_BGR2GRAY)\n",
    "    \n",
    "    face_cascade = cv2.CascadeClassifier(cv2.data.haarcascades + 'haarcascade_frontalface_default.xml')\n",
    "\n",
    "    faces = face_cascade.detectMultiScale(gray, scaleFactor=1.1, minNeighbors=5, minSize=(30,30))\n",
    "\n",
    "    for(x,y,w,h) in faces:\n",
    "        face_roi = gray [y:y + h, x:x + w]\n",
    "        edges = cv2.Canny(face_roi, 50, 150)\n",
    "        lines = cv2.HoughLinesP(edges, 1, np.pi / 180, threshold=50, minLineLength=30, maxLineGap=10)\n",
    "\n",
    "        if lines is not None:\n",
    "            cv2.rectangle(img, (x,y),(x+w, y+h), (0,255,0),2)\n",
    "\n",
    "            cv2.imwrite(\"result.jpg\", img)\n",
    "\n",
    "            with open (\"result.jpg\", 'rb') as result_file:\n",
    "                bot.send_photo(message.chat.id, result_file, \"نم التقاط صورة شخص يحمل الجوال\")\n",
    "            \n",
    "                return\n",
    "    bot.reply_to(message, \"لم يتم العثور عبى شخص يحمل هاتف\")\n",
    "\n",
    "\n",
    "if __name__== \"__main__\":\n",
    "    bot.polling(none_stop=True)            \n",
    "        \n",
    "\n"
   ]
  },
  {
   "cell_type": "code",
   "execution_count": 12,
   "metadata": {},
   "outputs": [],
   "source": [
    "import cv2\n",
    "import numpy as np\n",
    "import telebot\n",
    "from telebot import types\n",
    "\n",
    "# قم بتبديل 'YOUR_TELEGRAM_BOT_TOKEN' برمز البوت الخاص بك على تيليجرام الفعلي\n",
    "TOKEN = 'TOKEN'\n",
    "bot = telebot.TeleBot(\"6968701267:AAGqyb-ZDkJ1efwGjc6c-i4X4ldK0pWzS3c\")\n",
    "\n",
    "@bot.message_handler(content_types=['photo'])\n",
    "def handle_photo(message):\n",
    "    # قم بتنزيل الصورة\n",
    "    file_info = bot.get_file(message.photo[-1].file_id)\n",
    "    downloaded_file = bot.download_file(file_info.file_path)\n",
    "\n",
    "    # احفظ الصورة على القرص المحلي\n",
    "    with open(\"photo.jpg\", 'wb') as new_file:\n",
    "        new_file.write(downloaded_file)\n",
    "\n",
    "    # قم بتحميل الصورة باستخدام OpenCV\n",
    "    image = cv2.imread(\"photo.jpg\")\n",
    "\n",
    "    # قم بتحويل الصورة إلى اللون الرمادي\n",
    "    gray = cv2.cvtColor(image, cv2.COLOR_BGR2GRAY)\n",
    "\n",
    "    # قم بتحميل مصنف كاسكيد الذي يُستخدم لاكتشاف الوجوه مسبقًا\n",
    "    face_cascade = cv2.CascadeClassifier(cv2.data.haarcascades + 'haarcascade_frontalface_default.xml')\n",
    "\n",
    "    # اكتشف الوجوه في الصورة\n",
    "    faces = face_cascade.detectMultiScale(gray, scaleFactor=1.3, minNeighbors=5, minSize=(30, 30))\n",
    "\n",
    "    # تحقق مما إذا كان يوجد شخص يحمل جوال في كل وجه تم اكتشافه\n",
    "    for (x, y, w, h) in faces:\n",
    "        face_roi = gray[y:y + h, x:x + w]\n",
    "        edges = cv2.Canny(face_roi, 50, 150)\n",
    "        lines = cv2.HoughLinesP(edges, 1, np.pi / 180, threshold=50, minLineLength=30, maxLineGap=10)\n",
    "\n",
    "        if lines is not None:\n",
    "            # قم برسم مستطيل أخضر حول الجوال المكتشف\n",
    "            cv2.rectangle(image, (x, y), (x + w, y + h), (0, 255, 0), 2)\n",
    "\n",
    "            # احفظ الصورة مع المستطيل الأخضر\n",
    "            cv2.imwrite(\"result.jpg\", image)\n",
    "\n",
    "            # أرسل الصورة المعدلة إلى المستخدم\n",
    "            with open(\"result.jpg\", 'rb') as result_file:\n",
    "                bot.send_photo(message.chat.id, result_file, \"تم إلتقاط صورة لشخص يحمل الجوال\")\n",
    "\n",
    "            return\n",
    "\n",
    "    # إذا لم يتم العثور على شخص يحمل جوال\n",
    "    bot.reply_to(message, \"لم يتم العثور على شخص يحمل جوال في الصورة.\")\n",
    "\n",
    "if __name__ == \"__main__\":\n",
    "    bot.polling(none_stop=True)\n"
   ]
  }
 ],
 "metadata": {
  "kernelspec": {
   "display_name": "Python 3",
   "language": "python",
   "name": "python3"
  },
  "language_info": {
   "codemirror_mode": {
    "name": "ipython",
    "version": 3
   },
   "file_extension": ".py",
   "mimetype": "text/x-python",
   "name": "python",
   "nbconvert_exporter": "python",
   "pygments_lexer": "ipython3",
   "version": "3.12.1"
  }
 },
 "nbformat": 4,
 "nbformat_minor": 2
}
